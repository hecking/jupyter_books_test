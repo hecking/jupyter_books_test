{
 "cells": [
  {
   "cell_type": "code",
   "execution_count": 1,
   "id": "b1acacf7",
   "metadata": {},
   "outputs": [
    {
     "ename": "FileNotFoundError",
     "evalue": "[Errno 2] No such file or directory: 'C:\\\\ProgramData\\\\Miniforge3\\\\envs\\\\cag\\\\lib\\\\site-packages\\\\cag\\\\graph_framework\\\\components\\\\annotators\\\\pipeline\\\\..\\\\..\\\\annotators\\\\annotator.toml'",
     "output_type": "error",
     "traceback": [
      "\u001b[1;31m---------------------------------------------------------------------------\u001b[0m",
      "\u001b[1;31mFileNotFoundError\u001b[0m                         Traceback (most recent call last)",
      "Cell \u001b[1;32mIn [1], line 1\u001b[0m\n\u001b[1;32m----> 1\u001b[0m \u001b[38;5;28;01mfrom\u001b[39;00m \u001b[38;5;21;01mcag\u001b[39;00m\u001b[38;5;21;01m.\u001b[39;00m\u001b[38;5;21;01mgraph_framework\u001b[39;00m\u001b[38;5;21;01m.\u001b[39;00m\u001b[38;5;21;01mcomponents\u001b[39;00m\u001b[38;5;21;01m.\u001b[39;00m\u001b[38;5;21;01mannotators\u001b[39;00m\u001b[38;5;21;01m.\u001b[39;00m\u001b[38;5;21;01mpipeline\u001b[39;00m\u001b[38;5;21;01m.\u001b[39;00m\u001b[38;5;21;01mpipeline_base\u001b[39;00m \u001b[38;5;28;01mimport\u001b[39;00m Pipeline\n\u001b[0;32m      2\u001b[0m \u001b[38;5;28;01mfrom\u001b[39;00m \u001b[38;5;21;01mcag\u001b[39;00m\u001b[38;5;21;01m.\u001b[39;00m\u001b[38;5;21;01mutils\u001b[39;00m\u001b[38;5;21;01m.\u001b[39;00m\u001b[38;5;21;01mconfig\u001b[39;00m \u001b[38;5;28;01mimport\u001b[39;00m Config\n\u001b[0;32m      3\u001b[0m \u001b[38;5;28;01mfrom\u001b[39;00m \u001b[38;5;21;01mtqdm\u001b[39;00m \u001b[38;5;28;01mimport\u001b[39;00m tqdm\n",
      "File \u001b[1;32mC:\\ProgramData\\Miniforge3\\envs\\cag\\lib\\site-packages\\cag\\graph_framework\\components\\annotators\\pipeline\\pipeline_base.py:32\u001b[0m\n\u001b[0;32m     26\u001b[0m     save_output:\u001b[38;5;28mbool\u001b[39m \u001b[38;5;241m=\u001b[39m \u001b[38;5;28;01mTrue\u001b[39;00m\n\u001b[0;32m     27\u001b[0m     pipe_code:\u001b[38;5;28mstr\u001b[39m \u001b[38;5;241m=\u001b[39m \u001b[38;5;28;01mNone\u001b[39;00m \u001b[38;5;66;03m# set internally from toml\u001b[39;00m\n\u001b[1;32m---> 32\u001b[0m \u001b[38;5;28;01mclass\u001b[39;00m \u001b[38;5;21;01mPipeline\u001b[39;00m(ABC):\n\u001b[0;32m     33\u001b[0m     ANNOTATORS_CONFIG: ClassVar \u001b[38;5;241m=\u001b[39m tomli\u001b[38;5;241m.\u001b[39mloads(\n\u001b[0;32m     34\u001b[0m         Path(config_path)\u001b[38;5;241m.\u001b[39mread_text(encoding\u001b[38;5;241m=\u001b[39m\u001b[38;5;124m\"\u001b[39m\u001b[38;5;124mutf-8\u001b[39m\u001b[38;5;124m\"\u001b[39m))  \u001b[38;5;66;03m# default call annotators.get_annotators_config\u001b[39;00m\n\u001b[0;32m     37\u001b[0m     \u001b[38;5;28;01mdef\u001b[39;00m \u001b[38;5;21m__init__\u001b[39m(\u001b[38;5;28mself\u001b[39m,\n\u001b[0;32m     38\u001b[0m                  database_config: Config,\n\u001b[0;32m     39\u001b[0m                  \u001b[38;5;28minput\u001b[39m: \u001b[38;5;124m\"\u001b[39m\u001b[38;5;124m[Collection]\u001b[39m\u001b[38;5;124m\"\u001b[39m \u001b[38;5;241m=\u001b[39m \u001b[38;5;28;01mNone\u001b[39;00m):\n",
      "File \u001b[1;32mC:\\ProgramData\\Miniforge3\\envs\\cag\\lib\\site-packages\\cag\\graph_framework\\components\\annotators\\pipeline\\pipeline_base.py:34\u001b[0m, in \u001b[0;36mPipeline\u001b[1;34m()\u001b[0m\n\u001b[0;32m     32\u001b[0m \u001b[38;5;28;01mclass\u001b[39;00m \u001b[38;5;21;01mPipeline\u001b[39;00m(ABC):\n\u001b[0;32m     33\u001b[0m     ANNOTATORS_CONFIG: ClassVar \u001b[38;5;241m=\u001b[39m tomli\u001b[38;5;241m.\u001b[39mloads(\n\u001b[1;32m---> 34\u001b[0m         \u001b[43mPath\u001b[49m\u001b[43m(\u001b[49m\u001b[43mconfig_path\u001b[49m\u001b[43m)\u001b[49m\u001b[38;5;241;43m.\u001b[39;49m\u001b[43mread_text\u001b[49m\u001b[43m(\u001b[49m\u001b[43mencoding\u001b[49m\u001b[38;5;241;43m=\u001b[39;49m\u001b[38;5;124;43m\"\u001b[39;49m\u001b[38;5;124;43mutf-8\u001b[39;49m\u001b[38;5;124;43m\"\u001b[39;49m\u001b[43m)\u001b[49m)  \u001b[38;5;66;03m# default call annotators.get_annotators_config\u001b[39;00m\n\u001b[0;32m     37\u001b[0m     \u001b[38;5;28;01mdef\u001b[39;00m \u001b[38;5;21m__init__\u001b[39m(\u001b[38;5;28mself\u001b[39m,\n\u001b[0;32m     38\u001b[0m                  database_config: Config,\n\u001b[0;32m     39\u001b[0m                  \u001b[38;5;28minput\u001b[39m: \u001b[38;5;124m\"\u001b[39m\u001b[38;5;124m[Collection]\u001b[39m\u001b[38;5;124m\"\u001b[39m \u001b[38;5;241m=\u001b[39m \u001b[38;5;28;01mNone\u001b[39;00m):\n\u001b[0;32m     40\u001b[0m         \u001b[38;5;124;03m\"\"\"\u001b[39;00m\n\u001b[0;32m     41\u001b[0m \u001b[38;5;124;03m        The Pipeline class is responsible for taking a set of nodes as input, annotating them and saving them into\u001b[39;00m\n\u001b[0;32m     42\u001b[0m \u001b[38;5;124;03m        the database.\u001b[39;00m\n\u001b[0;32m     43\u001b[0m \n\u001b[0;32m     44\u001b[0m \u001b[38;5;124;03m        \"\"\"\u001b[39;00m\n",
      "File \u001b[1;32mC:\\ProgramData\\Miniforge3\\envs\\cag\\lib\\pathlib.py:1134\u001b[0m, in \u001b[0;36mPath.read_text\u001b[1;34m(self, encoding, errors)\u001b[0m\n\u001b[0;32m   1130\u001b[0m \u001b[38;5;124;03m\"\"\"\u001b[39;00m\n\u001b[0;32m   1131\u001b[0m \u001b[38;5;124;03mOpen the file in text mode, read it, and close the file.\u001b[39;00m\n\u001b[0;32m   1132\u001b[0m \u001b[38;5;124;03m\"\"\"\u001b[39;00m\n\u001b[0;32m   1133\u001b[0m encoding \u001b[38;5;241m=\u001b[39m io\u001b[38;5;241m.\u001b[39mtext_encoding(encoding)\n\u001b[1;32m-> 1134\u001b[0m \u001b[38;5;28;01mwith\u001b[39;00m \u001b[38;5;28;43mself\u001b[39;49m\u001b[38;5;241;43m.\u001b[39;49m\u001b[43mopen\u001b[49m\u001b[43m(\u001b[49m\u001b[43mmode\u001b[49m\u001b[38;5;241;43m=\u001b[39;49m\u001b[38;5;124;43m'\u001b[39;49m\u001b[38;5;124;43mr\u001b[39;49m\u001b[38;5;124;43m'\u001b[39;49m\u001b[43m,\u001b[49m\u001b[43m \u001b[49m\u001b[43mencoding\u001b[49m\u001b[38;5;241;43m=\u001b[39;49m\u001b[43mencoding\u001b[49m\u001b[43m,\u001b[49m\u001b[43m \u001b[49m\u001b[43merrors\u001b[49m\u001b[38;5;241;43m=\u001b[39;49m\u001b[43merrors\u001b[49m\u001b[43m)\u001b[49m \u001b[38;5;28;01mas\u001b[39;00m f:\n\u001b[0;32m   1135\u001b[0m     \u001b[38;5;28;01mreturn\u001b[39;00m f\u001b[38;5;241m.\u001b[39mread()\n",
      "File \u001b[1;32mC:\\ProgramData\\Miniforge3\\envs\\cag\\lib\\pathlib.py:1119\u001b[0m, in \u001b[0;36mPath.open\u001b[1;34m(self, mode, buffering, encoding, errors, newline)\u001b[0m\n\u001b[0;32m   1117\u001b[0m \u001b[38;5;28;01mif\u001b[39;00m \u001b[38;5;124m\"\u001b[39m\u001b[38;5;124mb\u001b[39m\u001b[38;5;124m\"\u001b[39m \u001b[38;5;129;01mnot\u001b[39;00m \u001b[38;5;129;01min\u001b[39;00m mode:\n\u001b[0;32m   1118\u001b[0m     encoding \u001b[38;5;241m=\u001b[39m io\u001b[38;5;241m.\u001b[39mtext_encoding(encoding)\n\u001b[1;32m-> 1119\u001b[0m \u001b[38;5;28;01mreturn\u001b[39;00m \u001b[38;5;28;43mself\u001b[39;49m\u001b[38;5;241;43m.\u001b[39;49m\u001b[43m_accessor\u001b[49m\u001b[38;5;241;43m.\u001b[39;49m\u001b[43mopen\u001b[49m\u001b[43m(\u001b[49m\u001b[38;5;28;43mself\u001b[39;49m\u001b[43m,\u001b[49m\u001b[43m \u001b[49m\u001b[43mmode\u001b[49m\u001b[43m,\u001b[49m\u001b[43m \u001b[49m\u001b[43mbuffering\u001b[49m\u001b[43m,\u001b[49m\u001b[43m \u001b[49m\u001b[43mencoding\u001b[49m\u001b[43m,\u001b[49m\u001b[43m \u001b[49m\u001b[43merrors\u001b[49m\u001b[43m,\u001b[49m\n\u001b[0;32m   1120\u001b[0m \u001b[43m                           \u001b[49m\u001b[43mnewline\u001b[49m\u001b[43m)\u001b[49m\n",
      "\u001b[1;31mFileNotFoundError\u001b[0m: [Errno 2] No such file or directory: 'C:\\\\ProgramData\\\\Miniforge3\\\\envs\\\\cag\\\\lib\\\\site-packages\\\\cag\\\\graph_framework\\\\components\\\\annotators\\\\pipeline\\\\..\\\\..\\\\annotators\\\\annotator.toml'"
     ]
    }
   ],
   "source": [
    "from cag.graph_framework.components.annotators.pipeline.pipeline_base import Pipeline\n",
    "from cag.utils.config import Config\n",
    "from tqdm import tqdm\n",
    "from cag.graph_framework.graph.base_graph import BaseGraph\n",
    "from pyArango.graph import  EdgeDefinition\n"
   ]
  },
  {
   "cell_type": "code",
   "execution_count": null,
   "id": "6ede6559",
   "metadata": {},
   "outputs": [],
   "source": [
    "\n",
    "\n",
    "## IMPORTANT: you must define a class with the same name as you graph name\n",
    "\n",
    "class MyFirstCag(BaseGraph):\n",
    "    _edgeDefinitions=[EdgeDefinition('GenericEdge', fromCollections=['GenericNode'], toCollections=['GenericNode'])] \n",
    "    _orphanedCollections = []\n",
    "    "
   ]
  },
  {
   "cell_type": "code",
   "execution_count": null,
   "id": "4ad297d8",
   "metadata": {},
   "outputs": [],
   "source": [
    "my_config = Config(\n",
    "            url= \"http://127.0.0.1:8529\",\n",
    "            user= \"root\",\n",
    "            password= \"\", # ADD YOUR PASSWORD\n",
    "            database= \"_system\",\n",
    "            graph= # ADD GRAPH NAME\n",
    "        )"
   ]
  },
  {
   "cell_type": "code",
   "execution_count": null,
   "id": "b2ca2e83",
   "metadata": {},
   "outputs": [],
   "source": [
    "class MyFirstPipeline(Pipeline):\n",
    "    \n",
    "    def __init__(self, database_config: Config, batch_size:int = 200):\n",
    "        super().__init__(database_config)\n",
    "        self.period = None\n",
    "        self.batch_size = batch_size\n",
    "    \n",
    "    def process_input(self) -> list:\n",
    "        processed = []\n",
    "        for txt_node in self.input:\n",
    "            processed.append((txt_node.text, {\"_key\": txt_node._key}))\n",
    "\n",
    "        return processed\n",
    "    \n",
    "    \n",
    "    \n",
    "    def init_and_run(self) -> list:\n",
    "\n",
    "\n",
    "        # 3. Loop over your data, annotate and save\n",
    "\n",
    "        coll: Collection = self.database_config.db[\"TextNode\"]\n",
    "        docs = coll.fetchAll(limit=self.batch_size)\n",
    "        fetched = len(docs)\n",
    "\n",
    "        # set the pipeline by adding pre defined pipelines from CAG or using cunstomized ones\n",
    "        self.set_spacy_language_model(\"en_core_web_md\")\n",
    "        # ADD PIPES\n",
    "\n",
    "        while docs != None and len(docs) >0:\n",
    "            # ADD Set the INPUT - this will automatically call preprocess_input (make sure to implement it)\n",
    "            # ADD SET INPUT\n",
    "            \n",
    "            \n",
    "            # ADD ANNOTATE\n",
    "            \n",
    "            \n",
    "            # ADD SAVE\n",
    "            \n",
    "            self.reset_input_output()\n",
    "            print(f\"Processed {fetched} docs\")\n",
    "            docs = coll.fetchAll(limit=self.batch_size, skip=fetched)\n",
    "            fetched = fetched + len(docs)"
   ]
  },
  {
   "cell_type": "code",
   "execution_count": null,
   "id": "9d5d80f1",
   "metadata": {},
   "outputs": [],
   "source": [
    "my_first_pipeline = MyFirstPipeline(my_config, batch_size =100)"
   ]
  },
  {
   "cell_type": "code",
   "execution_count": null,
   "id": "2815ed47",
   "metadata": {},
   "outputs": [],
   "source": [
    "my_first_pipeline.init_and_run()"
   ]
  },
  {
   "cell_type": "code",
   "execution_count": null,
   "id": "19091ba2",
   "metadata": {},
   "outputs": [],
   "source": []
  },
  {
   "cell_type": "code",
   "execution_count": null,
   "id": "ef53d1ea",
   "metadata": {},
   "outputs": [],
   "source": []
  }
 ],
 "metadata": {
  "kernelspec": {
   "display_name": "Python 3",
   "language": "python",
   "name": "python3"
  },
  "language_info": {
   "codemirror_mode": {
    "name": "ipython",
    "version": 3
   },
   "file_extension": ".py",
   "mimetype": "text/x-python",
   "name": "python",
   "nbconvert_exporter": "python",
   "pygments_lexer": "ipython3",
   "version": "3.10.6"
  }
 },
 "nbformat": 4,
 "nbformat_minor": 5
}
